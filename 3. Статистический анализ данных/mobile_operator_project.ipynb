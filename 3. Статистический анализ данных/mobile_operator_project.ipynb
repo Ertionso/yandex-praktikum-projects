{
 "cells": [
  {
   "cell_type": "markdown",
   "metadata": {},
   "source": [
    "# Определение перспективного тарифа для телеком компании\n",
    "\n",
    "## Описание проекта\n",
    "\n",
    "Нам предстоит сделать предварительный анализ тарифов на небольшой выборке клиентов. В нашем распоряжении данные 500 пользователей «Мегалайна»: кто они, откуда, каким тарифом пользуются, сколько звонков и сообщений каждый отправил за 2018 год. Нужно проанализировать поведение клиентов и сделать вывод — какой тариф лучше.\n",
    "\n",
    "## Описание тарифов\n",
    "**Тариф «Смарт»**\n",
    "1. Ежемесячная плата: 550 рублей\n",
    "2. Включено 500 минут разговора, 50 сообщений и 15 Гб интернет-трафика\n",
    "3. Стоимость услуг сверх тарифного пакета:  \n",
    "    * минута разговора: 3 рубля\n",
    "    * сообщение: 3 рубля\n",
    "    * 1 Гб интернет-трафика: 200 рублей  \n",
    "\n",
    "**Тариф «Ультра»**\n",
    "1. Ежемесячная плата: 1950 рублей\n",
    "2. Включено 3000 минут разговора, 1000 сообщений и 30 Гб интернет-трафика\n",
    "3. Стоимость услуг сверх тарифного пакета:  \n",
    "    * минута разговора: 1 рубль\n",
    "    * сообщение: 1 рубль\n",
    "    * 1 Гб интернет-трафика: 150 рублей  \n",
    "\n",
    "*Обратите внимание: «Мегалайн» всегда округляет вверх значения минут и мегабайтов. Если пользователь проговорил всего 1 секунду, в тарифе засчитывается целая минута.*\n",
    "\n",
    "## Описание данных  \n",
    "Таблица `users` (информация о пользователях):\n",
    "- user_id — уникальный идентификатор пользователя\n",
    "- first_name — имя пользователя\n",
    "- last_name — фамилия пользователя\n",
    "- age — возраст пользователя (годы)\n",
    "- reg_date — дата подключения тарифа (день, месяц, год)\n",
    "- churn_date — дата прекращения пользования тарифом (если значение пропущено, то тариф ещё действовал на момент выгрузки данных)\n",
    "- city — город проживания пользователя\n",
    "- tariff — название тарифного плана\n",
    "\n",
    "Таблица `calls` (информация о звонках):\n",
    "- id — уникальный номер звонка\n",
    "- call_date — дата звонка\n",
    "- duration — длительность звонка в минутах\n",
    "- user_id — идентификатор пользователя, сделавшего звонок\n",
    "\n",
    "Таблица `messages` (информация о сообщениях):\n",
    "- id — уникальный номер сообщения\n",
    "- message_date — дата сообщения\n",
    "- user_id — идентификатор пользователя, отправившего сообщение\n",
    "\n",
    "Таблица `internet` (информация об интернет-сессиях):\n",
    "- id — уникальный номер сессии\n",
    "- mb_used — объём потраченного за сессию интернет-трафика (в мегабайтах)\n",
    "- session_date — дата интернет-сессии\n",
    "- user_id — идентификатор пользователя\n",
    "\n",
    "Таблица `tariffs` (информация о тарифах):\n",
    "- tariff_name — название тарифа\n",
    "- rub_monthly_fee — ежемесячная абонентская плата в рублях\n",
    "- minutes_included — количество минут разговора в месяц, включённых в абонентскую плату\n",
    "- messages_included — количество сообщений в месяц, включённых в абонентскую плату\n",
    "- mb_per_month_included — объём интернет-трафика, включённого в абонентскую плату (в мегабайтах)\n",
    "- rub_per_minute — стоимость минуты разговора сверх тарифного пакета (например, если в тарифе 100 минут разговора в месяц, то со 101 минуты будет взиматься плата)\n",
    "- rub_per_message — стоимость отправки сообщения сверх тарифного пакета\n",
    "- rub_per_gb — стоимость дополнительного гигабайта интернет-трафика сверх тарифного пакета (1 гигабайт = 1024 мегабайта)\n",
    "\n",
    "## Постановка задачи\n",
    "### Шаг 1. Открыть файл с данными и изучить общую информацию\n",
    "### Шаг 2. Предобработка данных\n",
    "- [x] Привести данные к нужным типам;\n",
    "- [x] Найти и исправить ошибки в данных;\n",
    "\n",
    "### Шаг 3. Посчитать и добавить в таблицу\n",
    "- [x] Количество сделанных звонков и израсходованных минут разговора по месяцам;\n",
    "- [x] Количество отправленных сообщений по месяцам;\n",
    "- [x] Объем израсходованного интернет-трафика по месяцам;\n",
    "- [x] Помесячную выручку с каждого пользователя (вычтите бесплатный лимит из суммарного количества звонков, сообщений и интернет-трафика; остаток умножьте на значение из тарифного плана; прибавьте абонентскую плату, соответствующую тарифному плану);\n",
    "\n",
    "### Шаг 4. Проанализировать данные\n",
    "\n",
    "### Шаг 5. Проверить гипотезы\n",
    "- [x] Cредняя выручка пользователей тарифов «Ультра» и «Смарт» различается;\n",
    "- [x] Cредняя выручка пользователей из Москвы отличается от выручки пользователей из других регионов.\n",
    "---"
   ]
  },
  {
   "cell_type": "markdown",
   "metadata": {},
   "source": [
    "## Решение\n",
    "## <a name=\"1\">Шаг 1</a>. Открыть файл с данными и изучить общую информацию"
   ]
  },
  {
   "cell_type": "code",
   "execution_count": 1,
   "metadata": {},
   "outputs": [
    {
     "name": "stdout",
     "output_type": "stream",
     "text": [
      "<class 'pandas.core.frame.DataFrame'>\n",
      "RangeIndex: 202607 entries, 0 to 202606\n",
      "Data columns (total 4 columns):\n",
      "id           202607 non-null object\n",
      "call_date    202607 non-null object\n",
      "duration     202607 non-null float64\n",
      "user_id      202607 non-null int64\n",
      "dtypes: float64(1), int64(1), object(2)\n",
      "memory usage: 6.2+ MB\n",
      "None\n",
      "\n",
      "<class 'pandas.core.frame.DataFrame'>\n",
      "Int64Index: 149396 entries, 0 to 149395\n",
      "Data columns (total 4 columns):\n",
      "id              149396 non-null object\n",
      "mb_used         149396 non-null float64\n",
      "session_date    149396 non-null object\n",
      "user_id         149396 non-null int64\n",
      "dtypes: float64(1), int64(1), object(2)\n",
      "memory usage: 5.7+ MB\n",
      "None\n",
      "\n",
      "<class 'pandas.core.frame.DataFrame'>\n",
      "RangeIndex: 123036 entries, 0 to 123035\n",
      "Data columns (total 3 columns):\n",
      "id              123036 non-null object\n",
      "message_date    123036 non-null object\n",
      "user_id         123036 non-null int64\n",
      "dtypes: int64(1), object(2)\n",
      "memory usage: 2.8+ MB\n",
      "None\n",
      "\n",
      "<class 'pandas.core.frame.DataFrame'>\n",
      "RangeIndex: 2 entries, 0 to 1\n",
      "Data columns (total 8 columns):\n",
      "messages_included        2 non-null int64\n",
      "mb_per_month_included    2 non-null int64\n",
      "minutes_included         2 non-null int64\n",
      "rub_monthly_fee          2 non-null int64\n",
      "rub_per_gb               2 non-null int64\n",
      "rub_per_message          2 non-null int64\n",
      "rub_per_minute           2 non-null int64\n",
      "tariff_name              2 non-null object\n",
      "dtypes: int64(7), object(1)\n",
      "memory usage: 256.0+ bytes\n",
      "None\n",
      "\n",
      "<class 'pandas.core.frame.DataFrame'>\n",
      "RangeIndex: 500 entries, 0 to 499\n",
      "Data columns (total 8 columns):\n",
      "user_id       500 non-null int64\n",
      "age           500 non-null int64\n",
      "churn_date    38 non-null object\n",
      "city          500 non-null object\n",
      "first_name    500 non-null object\n",
      "last_name     500 non-null object\n",
      "reg_date      500 non-null object\n",
      "tariff        500 non-null object\n",
      "dtypes: int64(2), object(6)\n",
      "memory usage: 31.4+ KB\n",
      "None\n",
      "\n"
     ]
    }
   ],
   "source": [
    "# импортируем необходимые библиотеки\n",
    "import pandas as pd\n",
    "import numpy as np\n",
    "import matplotlib.pyplot as plt\n",
    "import seaborn as sns\n",
    "import scipy.stats as st\n",
    "# загружаем датафреймы в переменные\n",
    "pd.set_option('display.max_columns', None)\n",
    "calls = pd.read_csv('/datasets/calls.csv')\n",
    "internet = pd.read_csv('/datasets/internet.csv', index_col=0)\n",
    "messages = pd.read_csv('/datasets/messages.csv')\n",
    "tariffs = pd.read_csv('/datasets/tariffs.csv')\n",
    "users = pd.read_csv('/datasets/users.csv')\n",
    "# вывыдем общую информацую по датафреймам\n",
    "\n",
    "info = [calls, internet, messages, tariffs, users]\n",
    "for data in info:\n",
    "    print(data.info(), sep='\\n', end='\\n\\n'),"
   ]
  },
  {
   "cell_type": "markdown",
   "metadata": {},
   "source": [
    "### Промежуточный вывод\n",
    "\n",
    "Датасет содержит в себе записи о пятистах клиентах. Все столбцы с датами имеет неверный тип данных. Далее\" нам предстоит поменять тип данных для столбцов с датами. Т.к. тарифы считают интернет трафик в мегабайтах, а время разговоров в минутах необходимо округлить данные значения в большую сторону.  \n",
    "Помимо прочего, после объединения таблиц возможно встретить пустые значения (клиент мог не писать сообщений в данном месяце), их предстоит заменить на нули.\n",
    "\n",
    "---"
   ]
  },
  {
   "cell_type": "markdown",
   "metadata": {},
   "source": [
    "## <a name=\"2\">Шаг 2</a>. Предобработка данных"
   ]
  },
  {
   "cell_type": "markdown",
   "metadata": {},
   "source": [
    "Поставим везде правильный формат даты и времени."
   ]
  },
  {
   "cell_type": "code",
   "execution_count": 2,
   "metadata": {},
   "outputs": [],
   "source": [
    "# меняем тип данных на datetime\n",
    "calls['call_date'] = pd.to_datetime(calls['call_date'], format = '%Y-%m-%d')\n",
    "internet['session_date'] = pd.to_datetime(internet['session_date'], format = '%Y-%m-%d')\n",
    "messages['message_date'] = pd.to_datetime(messages['message_date'], format = '%Y-%m-%d')\n",
    "users['churn_date'] = pd.to_datetime(users['churn_date'], format = '%Y-%m-%d')\n",
    "users['reg_date'] = pd.to_datetime(users['reg_date'], format = '%Y-%m-%d')"
   ]
  },
  {
   "cell_type": "markdown",
   "metadata": {},
   "source": [
    "**Исправление ошибок в данных.**"
   ]
  },
  {
   "cell_type": "code",
   "execution_count": 3,
   "metadata": {},
   "outputs": [
    {
     "name": "stdout",
     "output_type": "stream",
     "text": [
      "Количество звонков с длительностью = 0: 39613\n"
     ]
    }
   ],
   "source": [
    "print('Количество звонков с длительностью = 0:', calls.loc[calls['duration'] == 0, 'duration'].value_counts()[0])"
   ]
  },
  {
   "cell_type": "markdown",
   "metadata": {},
   "source": [
    "Добавим столбец со значениями месяца."
   ]
  },
  {
   "cell_type": "code",
   "execution_count": 4,
   "metadata": {},
   "outputs": [],
   "source": [
    "calls['month'] = calls['call_date'].dt.month"
   ]
  },
  {
   "cell_type": "markdown",
   "metadata": {},
   "source": [
    "Построим график зависимости общего числа звонков от количеств нулевых значений за каждый месяц."
   ]
  },
  {
   "cell_type": "code",
   "execution_count": 5,
   "metadata": {},
   "outputs": [
    {
     "data": {
      "image/png": "[encoded data removed]",
      "text/plain": [
       "<Figure size 360x360 with 1 Axes>"
      ]
     },
     "metadata": {
      "needs_background": "light"
     },
     "output_type": "display_data"
    }
   ],
   "source": [
    "# для этого создадим столбец для индетификации нулевых значений и подсчета\n",
    "calls.loc[calls['duration'] == 0, 'nulls_count'] = 1 \n",
    "null_calls = calls.pivot_table(index = 'month', values =['id', 'nulls_count'], aggfunc = 'count')\n",
    "\n",
    "# строим график\n",
    "sns.relplot(x = 'id', y = 'nulls_count', data = null_calls, color='tab:green')\n",
    "plt.xlabel('Общее число звонков по месяцам')\n",
    "plt.ylabel('Число звонков с нулевой продолжительностью')\n",
    "_ = plt.title('Зависимость количества нулевых звонков от общего числа звонков по месяцам')"
   ]
  },
  {
   "cell_type": "markdown",
   "metadata": {},
   "source": [
    "На графике видно, что количество нулевых звонков имеет линейный рост, а появляются они систематически. Округлим минуты разговоров в большую сторону, а нули заменим на единицы, т.к. оператор именно так и считает."
   ]
  },
  {
   "cell_type": "code",
   "execution_count": 6,
   "metadata": {},
   "outputs": [],
   "source": [
    "calls['duration'] = calls['duration'].apply(np.ceil)\n",
    "calls.loc[calls['duration'] == 0, 'duration'] = 1"
   ]
  },
  {
   "cell_type": "markdown",
   "metadata": {},
   "source": [
    "Далее проведем осмотрим таблицу о интернет-сессиях.   "
   ]
  },
  {
   "cell_type": "code",
   "execution_count": 7,
   "metadata": {},
   "outputs": [
    {
     "name": "stdout",
     "output_type": "stream",
     "text": [
      "Количество интернет сессий с расходом трафика = 0: 19598\n"
     ]
    }
   ],
   "source": [
    "print('Количество интернет сессий с расходом трафика = 0:', internet.loc[internet['mb_used'] == 0, 'mb_used'].value_counts()[0])"
   ]
  },
  {
   "cell_type": "markdown",
   "metadata": {},
   "source": [
    "Для начала создадим столбец с месяцами."
   ]
  },
  {
   "cell_type": "code",
   "execution_count": 8,
   "metadata": {},
   "outputs": [],
   "source": [
    "internet['month'] = internet['session_date'].dt.month"
   ]
  },
  {
   "cell_type": "markdown",
   "metadata": {},
   "source": [
    "Построим график зависимости всех значей от нулевых столбца расхода сетевого трафика."
   ]
  },
  {
   "cell_type": "code",
   "execution_count": 9,
   "metadata": {},
   "outputs": [
    {
     "data": {
      "image/png": "[encoded data removed]",
      "text/plain": [
       "<Figure size 360x360 with 1 Axes>"
      ]
     },
     "metadata": {
      "needs_background": "light"
     },
     "output_type": "display_data"
    }
   ],
   "source": [
    "# создадим столбец с признаком нулевого трафика\n",
    "internet.loc[internet['mb_used'] == 0, 'nulls_count'] = 1\n",
    "\n",
    "# создадим сводную таблицу для подсчета количества нулевых значений по месяцам\n",
    "null_mb = internet.pivot_table(index = 'month', values = ['id', 'nulls_count'], aggfunc = 'count')\n",
    "\n",
    "# строим график\n",
    "sns.relplot(x = 'id', y = 'nulls_count', data = null_mb, color='tab:blue')\n",
    "plt.xlabel('Общее количество количество интернет сессий по месяцам')\n",
    "plt.ylabel('Количество сессий с нулевым расходом трафика')\n",
    "_ = plt.title('Зависимость количества нулевых интернет сессий к общему числу сессий')"
   ]
  },
  {
   "cell_type": "markdown",
   "metadata": {},
   "source": [
    "На графике абсолютно такая же зависимость, как и в случае \"нулевых\" звонков, поялвяются систематически. Округлим все значения вверх (тариф считается по мегабайтам), а нулевые значения заменим на единицы."
   ]
  },
  {
   "cell_type": "code",
   "execution_count": 10,
   "metadata": {},
   "outputs": [],
   "source": [
    "internet['mb_used'] = internet['mb_used'].apply(np.ceil)\n",
    "internet.loc[internet['mb_used'] == 0, 'mb_used'] = 1"
   ]
  },
  {
   "cell_type": "markdown",
   "metadata": {},
   "source": [
    "### Промежуточный вывод"
   ]
  },
  {
   "cell_type": "markdown",
   "metadata": {},
   "source": [
    "В данном шаге были приведены типы данных в datetime, построены графики зависимостей нулевых значений потребления интернет трафика и минут разговора от общих значений. На графиках видно, что нулевые значения появляются систематически, имеет линейную прогрессию.\n",
    "\n",
    "---"
   ]
  },
  {
   "cell_type": "markdown",
   "metadata": {},
   "source": [
    "## <a name=\"3\">Шаг 3</a>. Посчитать и добавить в таблицу"
   ]
  },
  {
   "cell_type": "markdown",
   "metadata": {},
   "source": [
    "Представим следующие характеристики в одной таблице:\n",
    "- Количество сделанных звонков и израсходованных минут разговора по месяцам;\n",
    "- Количество отправленных сообщений по месяцам;\n",
    "- Объем израсходованного интернет-трафика по месяцам;\n",
    "\n",
    "Для сведения таблиц создадим столбец с уникальным именем, состоящим из имени и фамилии."
   ]
  },
  {
   "cell_type": "code",
   "execution_count": 11,
   "metadata": {
    "scrolled": true
   },
   "outputs": [],
   "source": [
    "users['unique_name'] = users['first_name'] + ' ' + users['last_name']"
   ]
  },
  {
   "cell_type": "markdown",
   "metadata": {},
   "source": [
    "Создадим сводную таблицу с продолжительностью и количеством звонков по месяцам."
   ]
  },
  {
   "cell_type": "code",
   "execution_count": 12,
   "metadata": {},
   "outputs": [],
   "source": [
    "# склеиваем таблицу calls и users по user_id\n",
    "calls_temp = calls.merge(users, on = 'user_id', how = 'inner')\n",
    "# создаем сводннуб таблицу\n",
    "calls_group = calls_temp.pivot_table(\n",
    "    index = ['user_id', 'month'], \n",
    "    values = ['unique_name', 'duration'],\n",
    "    aggfunc = {'unique_name' : 'count', 'duration' : 'sum'}\n",
    ")\n",
    "# назначаем наименование столбцов\n",
    "calls_group.columns = ['duration', 'calls']"
   ]
  },
  {
   "cell_type": "markdown",
   "metadata": {},
   "source": [
    "Создадим сводную таблицу с количеством отправленнных сообщений по месяцам."
   ]
  },
  {
   "cell_type": "code",
   "execution_count": 13,
   "metadata": {},
   "outputs": [],
   "source": [
    "# создаем столбец с номером месяца\n",
    "messages['month'] = messages['message_date'].dt.month\n",
    "# склеиваем таблицу messages и users по user_id\n",
    "messages_temp = messages.merge(users, on = 'user_id', how = 'inner')\n",
    "# создаем сводную таблицу\n",
    "messages_group = messages_temp.pivot_table(\n",
    "    index = ['user_id', 'month'],\n",
    "    values = 'unique_name',\n",
    "    aggfunc = 'count'\n",
    ")\n",
    "# назначаем наименование столбцов\n",
    "messages_group.columns = ['messages']"
   ]
  },
  {
   "cell_type": "markdown",
   "metadata": {},
   "source": [
    "Создадим сводную таблицу с количеством потребляемого интернет трафика."
   ]
  },
  {
   "cell_type": "code",
   "execution_count": 14,
   "metadata": {},
   "outputs": [],
   "source": [
    "# склеиваем таблицу internet и users по user_id\n",
    "internet_temp = internet.merge(users, on = 'user_id', how = 'inner')\n",
    "# создаем сводную таблицу\n",
    "internet_group = internet_temp.pivot_table(\n",
    "    index = ['user_id', 'month'],\n",
    "    values = 'mb_used',\n",
    "    aggfunc = 'sum'\n",
    ")\n",
    "# назначаем наименование столбцов\n",
    "internet_group.columns = ['mb_used']"
   ]
  },
  {
   "cell_type": "markdown",
   "metadata": {},
   "source": [
    "Теперь мы можешь склеить все эти таблицы в одну для дальнейшей работы с ней."
   ]
  },
  {
   "cell_type": "code",
   "execution_count": 15,
   "metadata": {
    "scrolled": true
   },
   "outputs": [
    {
     "data": {
      "text/html": [
       "<div>\n",
       "<style scoped>\n",
       "    .dataframe tbody tr th:only-of-type {\n",
       "        vertical-align: middle;\n",
       "    }\n",
       "\n",
       "    .dataframe tbody tr th {\n",
       "        vertical-align: top;\n",
       "    }\n",
       "\n",
       "    .dataframe thead th {\n",
       "        text-align: right;\n",
       "    }\n",
       "</style>\n",
       "<table border=\"1\" class=\"dataframe\">\n",
       "  <thead>\n",
       "    <tr style=\"text-align: right;\">\n",
       "      <th></th>\n",
       "      <th></th>\n",
       "      <th>duration</th>\n",
       "      <th>calls</th>\n",
       "      <th>messages</th>\n",
       "      <th>mb_used</th>\n",
       "    </tr>\n",
       "    <tr>\n",
       "      <th>user_id</th>\n",
       "      <th>month</th>\n",
       "      <th></th>\n",
       "      <th></th>\n",
       "      <th></th>\n",
       "      <th></th>\n",
       "    </tr>\n",
       "  </thead>\n",
       "  <tbody>\n",
       "    <tr>\n",
       "      <td rowspan=\"8\" valign=\"top\">1000</td>\n",
       "      <td>5</td>\n",
       "      <td>164.0</td>\n",
       "      <td>22.0</td>\n",
       "      <td>22.0</td>\n",
       "      <td>2257.0</td>\n",
       "    </tr>\n",
       "    <tr>\n",
       "      <td>6</td>\n",
       "      <td>187.0</td>\n",
       "      <td>43.0</td>\n",
       "      <td>60.0</td>\n",
       "      <td>23262.0</td>\n",
       "    </tr>\n",
       "    <tr>\n",
       "      <td>7</td>\n",
       "      <td>346.0</td>\n",
       "      <td>47.0</td>\n",
       "      <td>75.0</td>\n",
       "      <td>14017.0</td>\n",
       "    </tr>\n",
       "    <tr>\n",
       "      <td>8</td>\n",
       "      <td>418.0</td>\n",
       "      <td>52.0</td>\n",
       "      <td>81.0</td>\n",
       "      <td>14072.0</td>\n",
       "    </tr>\n",
       "    <tr>\n",
       "      <td>9</td>\n",
       "      <td>478.0</td>\n",
       "      <td>58.0</td>\n",
       "      <td>57.0</td>\n",
       "      <td>14583.0</td>\n",
       "    </tr>\n",
       "    <tr>\n",
       "      <td>10</td>\n",
       "      <td>363.0</td>\n",
       "      <td>57.0</td>\n",
       "      <td>73.0</td>\n",
       "      <td>14717.0</td>\n",
       "    </tr>\n",
       "    <tr>\n",
       "      <td>11</td>\n",
       "      <td>344.0</td>\n",
       "      <td>43.0</td>\n",
       "      <td>58.0</td>\n",
       "      <td>14769.0</td>\n",
       "    </tr>\n",
       "    <tr>\n",
       "      <td>12</td>\n",
       "      <td>341.0</td>\n",
       "      <td>46.0</td>\n",
       "      <td>70.0</td>\n",
       "      <td>9829.0</td>\n",
       "    </tr>\n",
       "    <tr>\n",
       "      <td>1001</td>\n",
       "      <td>11</td>\n",
       "      <td>444.0</td>\n",
       "      <td>59.0</td>\n",
       "      <td>NaN</td>\n",
       "      <td>18460.0</td>\n",
       "    </tr>\n",
       "  </tbody>\n",
       "</table>\n",
       "</div>"
      ],
      "text/plain": [
       "               duration  calls  messages  mb_used\n",
       "user_id month                                    \n",
       "1000    5         164.0   22.0      22.0   2257.0\n",
       "        6         187.0   43.0      60.0  23262.0\n",
       "        7         346.0   47.0      75.0  14017.0\n",
       "        8         418.0   52.0      81.0  14072.0\n",
       "        9         478.0   58.0      57.0  14583.0\n",
       "        10        363.0   57.0      73.0  14717.0\n",
       "        11        344.0   43.0      58.0  14769.0\n",
       "        12        341.0   46.0      70.0   9829.0\n",
       "1001    11        444.0   59.0       NaN  18460.0"
      ]
     },
     "execution_count": 15,
     "metadata": {},
     "output_type": "execute_result"
    }
   ],
   "source": [
    "# используем функцию reduce, т.к. она комбинирует все параметры поллученные на входе\n",
    "from functools import reduce\n",
    "# что будем склеивать\n",
    "for_good_data = [calls_group, messages_group, internet_group]\n",
    "# склеиваем\n",
    "good_data = reduce(lambda x, a: pd.merge(x, a, on = ['user_id', 'month'], how = 'outer'), for_good_data)\n",
    "good_data.head(9)"
   ]
  },
  {
   "cell_type": "markdown",
   "metadata": {},
   "source": [
    "Остались пропущенные значения, их заменим на нуль."
   ]
  },
  {
   "cell_type": "code",
   "execution_count": 16,
   "metadata": {},
   "outputs": [],
   "source": [
    "good_data.loc[good_data['duration'].isna(), 'duration'] = 0\n",
    "good_data.loc[good_data['calls'].isna(), 'calls'] = 0\n",
    "good_data.loc[good_data['messages'].isna(), 'messages'] = 0\n",
    "good_data.loc[good_data['mb_used'].isna(), 'mb_used'] = 0"
   ]
  },
  {
   "cell_type": "markdown",
   "metadata": {},
   "source": [
    "Добавим в таблицу информацию о тарифах пользователей."
   ]
  },
  {
   "cell_type": "code",
   "execution_count": 17,
   "metadata": {},
   "outputs": [],
   "source": [
    "for n in good_data.index.levels[0]:\n",
    "    good_data.loc[n, 'tariff'] = users.loc[n - 1000, 'tariff']"
   ]
  },
  {
   "cell_type": "code",
   "execution_count": 18,
   "metadata": {},
   "outputs": [
    {
     "data": {
      "text/html": [
       "<div>\n",
       "<style scoped>\n",
       "    .dataframe tbody tr th:only-of-type {\n",
       "        vertical-align: middle;\n",
       "    }\n",
       "\n",
       "    .dataframe tbody tr th {\n",
       "        vertical-align: top;\n",
       "    }\n",
       "\n",
       "    .dataframe thead th {\n",
       "        text-align: right;\n",
       "    }\n",
       "</style>\n",
       "<table border=\"1\" class=\"dataframe\">\n",
       "  <thead>\n",
       "    <tr style=\"text-align: right;\">\n",
       "      <th></th>\n",
       "      <th></th>\n",
       "      <th>duration</th>\n",
       "      <th>calls</th>\n",
       "      <th>messages</th>\n",
       "      <th>mb_used</th>\n",
       "      <th>tariff</th>\n",
       "    </tr>\n",
       "    <tr>\n",
       "      <th>user_id</th>\n",
       "      <th>month</th>\n",
       "      <th></th>\n",
       "      <th></th>\n",
       "      <th></th>\n",
       "      <th></th>\n",
       "      <th></th>\n",
       "    </tr>\n",
       "  </thead>\n",
       "  <tbody>\n",
       "    <tr>\n",
       "      <td>1360</td>\n",
       "      <td>10</td>\n",
       "      <td>836.0</td>\n",
       "      <td>113.0</td>\n",
       "      <td>0.0</td>\n",
       "      <td>11076.0</td>\n",
       "      <td>ultra</td>\n",
       "    </tr>\n",
       "    <tr>\n",
       "      <td>1158</td>\n",
       "      <td>2</td>\n",
       "      <td>377.0</td>\n",
       "      <td>45.0</td>\n",
       "      <td>55.0</td>\n",
       "      <td>12738.0</td>\n",
       "      <td>smart</td>\n",
       "    </tr>\n",
       "    <tr>\n",
       "      <td>1000</td>\n",
       "      <td>8</td>\n",
       "      <td>418.0</td>\n",
       "      <td>52.0</td>\n",
       "      <td>81.0</td>\n",
       "      <td>14072.0</td>\n",
       "      <td>ultra</td>\n",
       "    </tr>\n",
       "    <tr>\n",
       "      <td>1232</td>\n",
       "      <td>10</td>\n",
       "      <td>239.0</td>\n",
       "      <td>30.0</td>\n",
       "      <td>25.0</td>\n",
       "      <td>8516.0</td>\n",
       "      <td>smart</td>\n",
       "    </tr>\n",
       "    <tr>\n",
       "      <td>1429</td>\n",
       "      <td>12</td>\n",
       "      <td>249.0</td>\n",
       "      <td>34.0</td>\n",
       "      <td>0.0</td>\n",
       "      <td>21564.0</td>\n",
       "      <td>smart</td>\n",
       "    </tr>\n",
       "  </tbody>\n",
       "</table>\n",
       "</div>"
      ],
      "text/plain": [
       "               duration  calls  messages  mb_used tariff\n",
       "user_id month                                           \n",
       "1360    10        836.0  113.0       0.0  11076.0  ultra\n",
       "1158    2         377.0   45.0      55.0  12738.0  smart\n",
       "1000    8         418.0   52.0      81.0  14072.0  ultra\n",
       "1232    10        239.0   30.0      25.0   8516.0  smart\n",
       "1429    12        249.0   34.0       0.0  21564.0  smart"
      ]
     },
     "execution_count": 18,
     "metadata": {},
     "output_type": "execute_result"
    }
   ],
   "source": [
    "good_data.sample(5)"
   ]
  },
  {
   "cell_type": "markdown",
   "metadata": {},
   "source": [
    "Теперь мы можем подсчитать помесячную выручку с каждого пользователя. Вычтем бесплатный лимит из суммарного количества звонков, сообщений и интернет-трафика, остаток умножим на значение из тарифного плана, прибавем абонентскую плату, соответствующую тарифному плану.\n",
    "\n",
    "Для подсчета напишем функцию и применим ее к датафрейму с 'хорошими данными'."
   ]
  },
  {
   "cell_type": "code",
   "execution_count": 19,
   "metadata": {},
   "outputs": [],
   "source": [
    "def revenue(row):\n",
    "    '''Return monthly revenue per user\n",
    "    \n",
    "    Subtracts the free limit from the total number of calls,\n",
    "    messages and Internet traffic,\n",
    "    multiplies the remainder by the value from the tariff plan,\n",
    "    adds the subscription fee.\n",
    "    '''\n",
    "    messages = row['messages']\n",
    "    mb_used = row['mb_used']\n",
    "    tariff = row['tariff']\n",
    "    duration = row['duration']\n",
    "    calls = row['calls']\n",
    "    if tariff == 'smart': # если тариф smart\n",
    "        duration_over = duration - tariffs.loc[0, 'minutes_included']\n",
    "        messages_over = messages - tariffs.loc[0, 'messages_included']\n",
    "        mb_used_over = mb_used - tariffs.loc[0, 'mb_per_month_included']\n",
    "        # проверка на отрицательное значение\n",
    "        if duration_over < 0:\n",
    "            duration_over = 0\n",
    "        if messages_over < 0:\n",
    "            messages_over = 0\n",
    "        if mb_used_over < 0:\n",
    "            mb_used_over = 0\n",
    "        return round((duration_over * tariffs.loc[0, 'rub_per_minute']) # возвращаем округленное по формуле число\n",
    "                + (messages_over * tariffs.loc[0, 'rub_per_message']) \n",
    "                + (mb_used_over * (tariffs.loc[0, 'rub_per_gb'] / 1024) \n",
    "                + tariffs.loc[0, 'rub_monthly_fee']), 1\n",
    "                )\n",
    "    elif tariff == 'ultra': # если тариф ultra\n",
    "        duration_over = duration - tariffs.loc[1, 'minutes_included']\n",
    "        messages_over = messages - tariffs.loc[1, 'messages_included']\n",
    "        mb_used_over = mb_used - tariffs.loc[1, 'mb_per_month_included']\n",
    "        # проверка на отрицательное значение\n",
    "        if duration_over < 0:\n",
    "            duration_over = 0\n",
    "        if messages_over < 0:\n",
    "            messages_over = 0\n",
    "        if mb_used_over < 0:\n",
    "            mb_used_over = 0\n",
    "        return round((duration_over * tariffs.loc[1, 'rub_per_minute']) # возвращаем округленное по формуле число\n",
    "                + (messages_over * tariffs.loc[1, 'rub_per_message'])\n",
    "                + (mb_used_over * (tariffs.loc[1, 'rub_per_gb'] / 1024)\n",
    "                + tariffs.loc[1, 'rub_monthly_fee']), 1\n",
    "                )"
   ]
  },
  {
   "cell_type": "code",
   "execution_count": 20,
   "metadata": {},
   "outputs": [],
   "source": [
    "good_data['revenue'] = good_data.apply(revenue, axis = 1)"
   ]
  },
  {
   "cell_type": "code",
   "execution_count": 21,
   "metadata": {},
   "outputs": [
    {
     "data": {
      "text/html": [
       "<div>\n",
       "<style scoped>\n",
       "    .dataframe tbody tr th:only-of-type {\n",
       "        vertical-align: middle;\n",
       "    }\n",
       "\n",
       "    .dataframe tbody tr th {\n",
       "        vertical-align: top;\n",
       "    }\n",
       "\n",
       "    .dataframe thead th {\n",
       "        text-align: right;\n",
       "    }\n",
       "</style>\n",
       "<table border=\"1\" class=\"dataframe\">\n",
       "  <thead>\n",
       "    <tr style=\"text-align: right;\">\n",
       "      <th></th>\n",
       "      <th></th>\n",
       "      <th>duration</th>\n",
       "      <th>calls</th>\n",
       "      <th>messages</th>\n",
       "      <th>mb_used</th>\n",
       "      <th>tariff</th>\n",
       "      <th>revenue</th>\n",
       "    </tr>\n",
       "    <tr>\n",
       "      <th>user_id</th>\n",
       "      <th>month</th>\n",
       "      <th></th>\n",
       "      <th></th>\n",
       "      <th></th>\n",
       "      <th></th>\n",
       "      <th></th>\n",
       "      <th></th>\n",
       "    </tr>\n",
       "  </thead>\n",
       "  <tbody>\n",
       "    <tr>\n",
       "      <td rowspan=\"5\" valign=\"top\">1000</td>\n",
       "      <td>5</td>\n",
       "      <td>164.0</td>\n",
       "      <td>22.0</td>\n",
       "      <td>22.0</td>\n",
       "      <td>2257.0</td>\n",
       "      <td>ultra</td>\n",
       "      <td>1950.0</td>\n",
       "    </tr>\n",
       "    <tr>\n",
       "      <td>6</td>\n",
       "      <td>187.0</td>\n",
       "      <td>43.0</td>\n",
       "      <td>60.0</td>\n",
       "      <td>23262.0</td>\n",
       "      <td>ultra</td>\n",
       "      <td>1950.0</td>\n",
       "    </tr>\n",
       "    <tr>\n",
       "      <td>7</td>\n",
       "      <td>346.0</td>\n",
       "      <td>47.0</td>\n",
       "      <td>75.0</td>\n",
       "      <td>14017.0</td>\n",
       "      <td>ultra</td>\n",
       "      <td>1950.0</td>\n",
       "    </tr>\n",
       "    <tr>\n",
       "      <td>8</td>\n",
       "      <td>418.0</td>\n",
       "      <td>52.0</td>\n",
       "      <td>81.0</td>\n",
       "      <td>14072.0</td>\n",
       "      <td>ultra</td>\n",
       "      <td>1950.0</td>\n",
       "    </tr>\n",
       "    <tr>\n",
       "      <td>9</td>\n",
       "      <td>478.0</td>\n",
       "      <td>58.0</td>\n",
       "      <td>57.0</td>\n",
       "      <td>14583.0</td>\n",
       "      <td>ultra</td>\n",
       "      <td>1950.0</td>\n",
       "    </tr>\n",
       "  </tbody>\n",
       "</table>\n",
       "</div>"
      ],
      "text/plain": [
       "               duration  calls  messages  mb_used tariff  revenue\n",
       "user_id month                                                    \n",
       "1000    5         164.0   22.0      22.0   2257.0  ultra   1950.0\n",
       "        6         187.0   43.0      60.0  23262.0  ultra   1950.0\n",
       "        7         346.0   47.0      75.0  14017.0  ultra   1950.0\n",
       "        8         418.0   52.0      81.0  14072.0  ultra   1950.0\n",
       "        9         478.0   58.0      57.0  14583.0  ultra   1950.0"
      ]
     },
     "execution_count": 21,
     "metadata": {},
     "output_type": "execute_result"
    }
   ],
   "source": [
    "good_data.head()"
   ]
  },
  {
   "cell_type": "markdown",
   "metadata": {},
   "source": [
    "### Промежуточный вывод\n",
    "В данном шаге мы посчитали количество сделанных звонков и израсходованных минут разговора по месяцам, количество отправленных сообщений по месяцам, объем израсходованного интернет-трафика по месяцам, помесячную выручку с каждого пользователя."
   ]
  },
  {
   "cell_type": "markdown",
   "metadata": {},
   "source": [
    "## <a name=\"4\">Шаг 4</a>. Проанализировать данные\n",
    "Теперь выведем таблицу со медианными показателями потребления тарифов в месяца."
   ]
  },
  {
   "cell_type": "code",
   "execution_count": 22,
   "metadata": {},
   "outputs": [
    {
     "data": {
      "text/html": [
       "<div>\n",
       "<style scoped>\n",
       "    .dataframe tbody tr th:only-of-type {\n",
       "        vertical-align: middle;\n",
       "    }\n",
       "\n",
       "    .dataframe tbody tr th {\n",
       "        vertical-align: top;\n",
       "    }\n",
       "\n",
       "    .dataframe thead th {\n",
       "        text-align: right;\n",
       "    }\n",
       "</style>\n",
       "<table border=\"1\" class=\"dataframe\">\n",
       "  <thead>\n",
       "    <tr style=\"text-align: right;\">\n",
       "      <th></th>\n",
       "      <th>calls</th>\n",
       "      <th>duration</th>\n",
       "      <th>mb_used</th>\n",
       "      <th>messages</th>\n",
       "      <th>revenue</th>\n",
       "      <th>tariff</th>\n",
       "    </tr>\n",
       "    <tr>\n",
       "      <th>user_id</th>\n",
       "      <th></th>\n",
       "      <th></th>\n",
       "      <th></th>\n",
       "      <th></th>\n",
       "      <th></th>\n",
       "      <th></th>\n",
       "    </tr>\n",
       "  </thead>\n",
       "  <tbody>\n",
       "    <tr>\n",
       "      <td>1000</td>\n",
       "      <td>46.5</td>\n",
       "      <td>345.0</td>\n",
       "      <td>14327.5</td>\n",
       "      <td>65.0</td>\n",
       "      <td>1950.00</td>\n",
       "      <td>ultra</td>\n",
       "    </tr>\n",
       "    <tr>\n",
       "      <td>1001</td>\n",
       "      <td>61.0</td>\n",
       "      <td>437.0</td>\n",
       "      <td>16259.5</td>\n",
       "      <td>0.0</td>\n",
       "      <td>852.75</td>\n",
       "      <td>smart</td>\n",
       "    </tr>\n",
       "    <tr>\n",
       "      <td>1002</td>\n",
       "      <td>33.0</td>\n",
       "      <td>221.0</td>\n",
       "      <td>17615.0</td>\n",
       "      <td>11.0</td>\n",
       "      <td>990.40</td>\n",
       "      <td>smart</td>\n",
       "    </tr>\n",
       "    <tr>\n",
       "      <td>1003</td>\n",
       "      <td>108.0</td>\n",
       "      <td>844.0</td>\n",
       "      <td>11369.0</td>\n",
       "      <td>83.0</td>\n",
       "      <td>1950.00</td>\n",
       "      <td>ultra</td>\n",
       "    </tr>\n",
       "    <tr>\n",
       "      <td>1004</td>\n",
       "      <td>21.5</td>\n",
       "      <td>136.5</td>\n",
       "      <td>17831.0</td>\n",
       "      <td>154.5</td>\n",
       "      <td>1950.00</td>\n",
       "      <td>ultra</td>\n",
       "    </tr>\n",
       "  </tbody>\n",
       "</table>\n",
       "</div>"
      ],
      "text/plain": [
       "         calls  duration  mb_used  messages  revenue tariff\n",
       "user_id                                                    \n",
       "1000      46.5     345.0  14327.5      65.0  1950.00  ultra\n",
       "1001      61.0     437.0  16259.5       0.0   852.75  smart\n",
       "1002      33.0     221.0  17615.0      11.0   990.40  smart\n",
       "1003     108.0     844.0  11369.0      83.0  1950.00  ultra\n",
       "1004      21.5     136.5  17831.0     154.5  1950.00  ultra"
      ]
     },
     "execution_count": 22,
     "metadata": {},
     "output_type": "execute_result"
    }
   ],
   "source": [
    "median_data = good_data.pivot_table(\n",
    "    index = 'user_id',\n",
    "    values = ['duration', 'calls', 'messages', 'mb_used', 'revenue'],\n",
    "    aggfunc = 'median'\n",
    ")\n",
    "# добавим информацию о тарифах\n",
    "for n in median_data.index:\n",
    "    median_data.loc[n, 'tariff'] = users.loc[n - 1000, 'tariff']\n",
    "median_data.head()"
   ]
  },
  {
   "cell_type": "markdown",
   "metadata": {},
   "source": [
    "Выведем среднее количество, дисперсию и стандартное отколонение для показателей."
   ]
  },
  {
   "cell_type": "code",
   "execution_count": 23,
   "metadata": {},
   "outputs": [
    {
     "data": {
      "text/html": [
       "<div>\n",
       "<style scoped>\n",
       "    .dataframe tbody tr th:only-of-type {\n",
       "        vertical-align: middle;\n",
       "    }\n",
       "\n",
       "    .dataframe tbody tr th {\n",
       "        vertical-align: top;\n",
       "    }\n",
       "\n",
       "    .dataframe thead tr th {\n",
       "        text-align: left;\n",
       "    }\n",
       "\n",
       "    .dataframe thead tr:last-of-type th {\n",
       "        text-align: right;\n",
       "    }\n",
       "</style>\n",
       "<table border=\"1\" class=\"dataframe\">\n",
       "  <thead>\n",
       "    <tr>\n",
       "      <th></th>\n",
       "      <th colspan=\"5\" halign=\"left\">mean</th>\n",
       "      <th colspan=\"5\" halign=\"left\">var</th>\n",
       "      <th colspan=\"5\" halign=\"left\">std</th>\n",
       "    </tr>\n",
       "    <tr>\n",
       "      <th></th>\n",
       "      <th>calls</th>\n",
       "      <th>duration</th>\n",
       "      <th>mb_used</th>\n",
       "      <th>messages</th>\n",
       "      <th>revenue</th>\n",
       "      <th>calls</th>\n",
       "      <th>duration</th>\n",
       "      <th>mb_used</th>\n",
       "      <th>messages</th>\n",
       "      <th>revenue</th>\n",
       "      <th>calls</th>\n",
       "      <th>duration</th>\n",
       "      <th>mb_used</th>\n",
       "      <th>messages</th>\n",
       "      <th>revenue</th>\n",
       "    </tr>\n",
       "    <tr>\n",
       "      <th>tariff</th>\n",
       "      <th></th>\n",
       "      <th></th>\n",
       "      <th></th>\n",
       "      <th></th>\n",
       "      <th></th>\n",
       "      <th></th>\n",
       "      <th></th>\n",
       "      <th></th>\n",
       "      <th></th>\n",
       "      <th></th>\n",
       "      <th></th>\n",
       "      <th></th>\n",
       "      <th></th>\n",
       "      <th></th>\n",
       "      <th></th>\n",
       "    </tr>\n",
       "  </thead>\n",
       "  <tbody>\n",
       "    <tr>\n",
       "      <td>smart</td>\n",
       "      <td>61.814286</td>\n",
       "      <td>449.885714</td>\n",
       "      <td>16862.307143</td>\n",
       "      <td>33.770000</td>\n",
       "      <td>1261.739000</td>\n",
       "      <td>507.112976</td>\n",
       "      <td>27097.876586</td>\n",
       "      <td>1.748493e+07</td>\n",
       "      <td>784.596662</td>\n",
       "      <td>510110.178167</td>\n",
       "      <td>22.519169</td>\n",
       "      <td>164.614327</td>\n",
       "      <td>4181.498288</td>\n",
       "      <td>28.010653</td>\n",
       "      <td>714.219979</td>\n",
       "    </tr>\n",
       "    <tr>\n",
       "      <td>ultra</td>\n",
       "      <td>77.912162</td>\n",
       "      <td>572.820946</td>\n",
       "      <td>20324.445946</td>\n",
       "      <td>56.983108</td>\n",
       "      <td>2050.283784</td>\n",
       "      <td>1783.492232</td>\n",
       "      <td>97026.949014</td>\n",
       "      <td>7.924517e+07</td>\n",
       "      <td>2424.263318</td>\n",
       "      <td>75535.005416</td>\n",
       "      <td>42.231413</td>\n",
       "      <td>311.491491</td>\n",
       "      <td>8901.975727</td>\n",
       "      <td>49.236809</td>\n",
       "      <td>274.836325</td>\n",
       "    </tr>\n",
       "  </tbody>\n",
       "</table>\n",
       "</div>"
      ],
      "text/plain": [
       "             mean                                                    \\\n",
       "            calls    duration       mb_used   messages      revenue   \n",
       "tariff                                                                \n",
       "smart   61.814286  449.885714  16862.307143  33.770000  1261.739000   \n",
       "ultra   77.912162  572.820946  20324.445946  56.983108  2050.283784   \n",
       "\n",
       "                var                                                          \\\n",
       "              calls      duration       mb_used     messages        revenue   \n",
       "tariff                                                                        \n",
       "smart    507.112976  27097.876586  1.748493e+07   784.596662  510110.178167   \n",
       "ultra   1783.492232  97026.949014  7.924517e+07  2424.263318   75535.005416   \n",
       "\n",
       "              std                                                  \n",
       "            calls    duration      mb_used   messages     revenue  \n",
       "tariff                                                             \n",
       "smart   22.519169  164.614327  4181.498288  28.010653  714.219979  \n",
       "ultra   42.231413  311.491491  8901.975727  49.236809  274.836325  "
      ]
     },
     "execution_count": 23,
     "metadata": {},
     "output_type": "execute_result"
    }
   ],
   "source": [
    "stats_median_data = median_data.pivot_table(\n",
    "    index = 'tariff', \n",
    "    values = ['calls', 'duration', 'mb_used', 'messages', 'revenue'],\n",
    "    aggfunc = ['mean', 'var', 'std']\n",
    ")\n",
    "stats_median_data.head()"
   ]
  },
  {
   "cell_type": "markdown",
   "metadata": {},
   "source": [
    "Построим диаграммы размаха для каждого тарифа по продолжительности звонков, количеству сообщений и израсходованному интернет трафику."
   ]
  },
  {
   "cell_type": "code",
   "execution_count": 24,
   "metadata": {},
   "outputs": [
    {
     "data": {
      "image/png": "[encoded data removed]",
      "text/plain": [
       "<Figure size 360x360 with 1 Axes>"
      ]
     },
     "metadata": {
      "needs_background": "light"
     },
     "output_type": "display_data"
    },
    {
     "data": {
      "image/png": "[encoded data removed]",
      "text/plain": [
       "<Figure size 360x360 with 1 Axes>"
      ]
     },
     "metadata": {
      "needs_background": "light"
     },
     "output_type": "display_data"
    },
    {
     "data": {
      "image/png": "[encoded data removed]",
      "text/plain": [
       "<Figure size 360x360 with 1 Axes>"
      ]
     },
     "metadata": {
      "needs_background": "light"
     },
     "output_type": "display_data"
    }
   ],
   "source": [
    "keywords = {'duration' : 'Количество минут разговора', 'messages' : 'Количество сообщений', 'mb_used' : 'Расход интернет трафика'}\n",
    "for column in ['duration', 'messages', 'mb_used']:\n",
    "    sns.catplot(data = median_data, x = 'tariff', y = column, kind = 'box', palette=\"pastel\")\n",
    "    plt.xlabel('Тариф')\n",
    "    plt.ylabel(keywords[column])\n",
    "    plt.title('Диаграмма размаха для столбца ' + column)"
   ]
  },
  {
   "cell_type": "markdown",
   "metadata": {},
   "source": [
    "На диаграммах размаха видно, что по всем характеристикам (минуты разговоров, количество сообщений и расход интернет трафика) тариф \"Ультра\" имеет большую дисперсию в сравнении с тарифом \"Смарт\", медианное значение смещено в большую сторону, значит клиенты с тарифом \"Ультра\" расходуют в среднем больше. К тому же количество выбросов на тарифе \"Смарт\" значительно больше. "
   ]
  },
  {
   "cell_type": "markdown",
   "metadata": {},
   "source": [
    "Построим гистограммы распределения основных показателей для обоих тарифов."
   ]
  },
  {
   "cell_type": "code",
   "execution_count": 25,
   "metadata": {},
   "outputs": [
    {
     "data": {
      "image/png": "[encoded data removed]",
      "text/plain": [
       "<Figure size 1152x648 with 1 Axes>"
      ]
     },
     "metadata": {},
     "output_type": "display_data"
    }
   ],
   "source": [
    "for tariff in ['ultra', 'smart']:\n",
    "    sns.set(rc={'figure.figsize':(16,9)})\n",
    "    sns.distplot(median_data.query('tariff == @tariff')['duration'])\n",
    "    plt.legend(['Тариф \"Ультра\"', 'Тариф \"Смарт\"'])\n",
    "    plt.title('Гистограмма распределения продолжительности разговоров')\n",
    "    plt.xlabel('Продолжительность разговоров, сек')"
   ]
  },
  {
   "cell_type": "code",
   "execution_count": 26,
   "metadata": {},
   "outputs": [
    {
     "data": {
      "image/png": "[encoded data removed]",
      "text/plain": [
       "<Figure size 1152x648 with 1 Axes>"
      ]
     },
     "metadata": {},
     "output_type": "display_data"
    }
   ],
   "source": [
    "for tariff in ['ultra', 'smart']:\n",
    "    sns.set(rc={'figure.figsize':(16,9)})\n",
    "    sns.distplot(median_data.query('tariff == @tariff')['messages'])\n",
    "    plt.legend(['Тариф \"Ультра\"', 'Тариф \"Смарт\"'])\n",
    "    plt.title('Гистограмма распределения отправленных сообщений')\n",
    "    plt.xlabel('Количество отправленных сообщений, шт')"
   ]
  },
  {
   "cell_type": "code",
   "execution_count": 27,
   "metadata": {},
   "outputs": [
    {
     "data": {
      "image/png": "[encoded data removed]",
      "text/plain": [
       "<Figure size 1152x648 with 1 Axes>"
      ]
     },
     "metadata": {},
     "output_type": "display_data"
    }
   ],
   "source": [
    "for tariff in ['ultra', 'smart']:\n",
    "    sns.set(rc={'figure.figsize':(16,9)})\n",
    "    sns.distplot(median_data.query('tariff == @tariff')['mb_used'])\n",
    "    plt.legend(['Тариф \"Ультра\"', 'Тариф \"Смарт\"'])\n",
    "    plt.title('Гистограмма распределения расхода интернет трафика')\n",
    "    plt.xlabel('Расход интернет трафика, мб')"
   ]
  },
  {
   "cell_type": "markdown",
   "metadata": {},
   "source": [
    "### Промежуточный вывод\n",
    "\n",
    "Из полученных графиков можно сделать вывод, что дисперсия больше у тарифа \"Ултра\", чем у тарифа \"Смарт\" по всем параметрам. Судя по диаграммам размаха и гистограмм, распределение близко к нормальному. Исходя из этого, можно сделать вывод, что **пользователи тарифа \"Ультра\" потребляют больше телекомуникационных услуг**. Возможно использование тарифа, где предполагается больший запас трафика, минут и количества сообщений включенных по-умолчанию позволяет клиентам охотнее их тратить.\n",
    "\n",
    "Стандартное отклонение по выручке в тарифе \"Смарт\" в 714 рублей говорит о большом разбросе оплаты. Пользователи данного тарифа в среднем больше переплачивают сверх лимита.\n",
    "\n",
    "**Сколько в среднем требуется пользователям минут разговора, сообщений и интернет трафика для каждого тарифа?**\n",
    "\n",
    "Величина | Название тарифа | Сколько требуется\n",
    ":-----|:---------|:------\n",
    "Минут разговора, сек     | Ультра     | 573\n",
    "     | Смарт     | 450\n",
    "Количество сообщений, шт     | Ультра  | 57\n",
    " | Смарт | 34\n",
    "Интернет трафика, мб | Ультра | 20324\n",
    " | Смарт | 16862\n",
    "\n",
    "___"
   ]
  },
  {
   "cell_type": "markdown",
   "metadata": {},
   "source": [
    "## <a name=\"5\">Шаг 5</a>. Проверить гипотезы\n",
    "### Проверка гипотез №1"
   ]
  },
  {
   "cell_type": "markdown",
   "metadata": {},
   "source": [
    "Постановка гипотезы:  \n",
    "$H{_0} - $ средняя выручка пользователей тарифов \"Ультра\" и \"Смарт\" **не различается**.  \n",
    "$H{_1} - $ средняя выручку пользователей тарифов \"Ультра\" и \"Смарт\" **различается**.  \n",
    "$\\alpha = 1$% $-$ критический уровень статистической значимости.  \n",
    "Если `p-value` меньше порогового значения `alpha`, то гипотезу отвергаем. Иначе - не отвергаем."
   ]
  },
  {
   "cell_type": "markdown",
   "metadata": {},
   "source": [
    "Воспользуемся тестом Левина и на основе его результатов будем делать вывод равны ли дисперсии двух выборок."
   ]
  },
  {
   "cell_type": "code",
   "execution_count": 28,
   "metadata": {},
   "outputs": [
    {
     "data": {
      "text/plain": [
       "3.3172175151567484e-119"
      ]
     },
     "execution_count": 28,
     "metadata": {},
     "output_type": "execute_result"
    }
   ],
   "source": [
    "from scipy.stats import levene\n",
    "# соберем данные по выручке для каждого тарифа в переменные\n",
    "smart = good_data.loc[good_data['tariff'] == 'ultra', 'revenue']\n",
    "ultra = good_data.loc[good_data['tariff'] == 'smart', 'revenue']\n",
    "# тест Левина\n",
    "stat, p = levene(smart, ultra)\n",
    "p"
   ]
  },
  {
   "cell_type": "markdown",
   "metadata": {},
   "source": [
    "Значение p очень велико, следовательно дисперсии однородны. Можем перейти к проверке гипотезы с помощью t-критерия Стьюдента."
   ]
  },
  {
   "cell_type": "code",
   "execution_count": 29,
   "metadata": {
    "scrolled": true
   },
   "outputs": [
    {
     "name": "stdout",
     "output_type": "stream",
     "text": [
      "Средняя выручка по тарфу \"Ультра\": 1251.41\n",
      "Средняя выручка по тарифу \"Смарт\": 2060.59\n",
      "\n",
      "p-значение: 8.010454520011615e-180\n",
      "\n",
      "Отвеграем нулевую гипотезу.\n"
     ]
    }
   ],
   "source": [
    "alpha = .01 # критический уровень статистической значимости\n",
    "\n",
    "result = st.ttest_ind(smart, ultra, equal_var = True)\n",
    "\n",
    "print('Средняя выручка по тарфу \"Ультра\": {:.2f}'.format(ultra.mean()),\n",
    "      'Средняя выручка по тарифу \"Смарт\": {:.2f}\\n'.format(smart.mean()) , sep = '\\n')\n",
    "print('p-значение: {}\\n'.format(result.pvalue))\n",
    "\n",
    "if (result.pvalue > alpha):\n",
    "    print('Не удалось отвергнуть нулевую гипотезу.')\n",
    "else:\n",
    "    print('Отвеграем нулевую гипотезу.')"
   ]
  },
  {
   "cell_type": "markdown",
   "metadata": {},
   "source": [
    "Выведем медианную прибыль по тарифам и диаграммы размаха для наглядности."
   ]
  },
  {
   "cell_type": "code",
   "execution_count": 30,
   "metadata": {},
   "outputs": [
    {
     "name": "stdout",
     "output_type": "stream",
     "text": [
      "        revenue\n",
      "tariff         \n",
      "smart     987.7\n",
      "ultra    1950.0\n"
     ]
    },
    {
     "data": {
      "image/png": "[encoded data removed]",
      "text/plain": [
       "<Figure size 360x360 with 1 Axes>"
      ]
     },
     "metadata": {},
     "output_type": "display_data"
    }
   ],
   "source": [
    "print(good_data.pivot_table(index = 'tariff', values = 'revenue', aggfunc = 'median'))\n",
    "sns.catplot(x = 'tariff', y = 'revenue', kind = 'box', data = good_data, color = 'b');"
   ]
  },
  {
   "cell_type": "markdown",
   "metadata": {},
   "source": [
    "### Промежуточный вывод"
   ]
  },
  {
   "cell_type": "markdown",
   "metadata": {},
   "source": [
    "Медианные значения отличаются для тарифов почти в 2 раза. Пользователям тарифа \"Смарт\" в среднем не хватает выделенных услуг в рамках пакета и они доплачивают за их расширение. С точностью 99% можно сказать, что пользователи тарифа \"Ультра\" и \"Смарт\" приносят компании \"Мегалайн\" разную выручку."
   ]
  },
  {
   "cell_type": "markdown",
   "metadata": {},
   "source": [
    "### Проверка гипотезы №2"
   ]
  },
  {
   "cell_type": "markdown",
   "metadata": {},
   "source": [
    "Постановка гипотезы:  \n",
    "$H{_0} - $ Средняя выручка пользователей из Москвы **не отличается** от средней выручки пользователей из других регионов.  \n",
    "$H{_1} - $ средняя выручку пользователей из Москвы **отличается** от средней выручки пользователей из других регионов.  \n",
    "$\\alpha = 1$% $-$ критический уровень статистической значимости.  \n",
    "Если `p-value` меньше порогового значения `alpha`, то гипотезу отвергаем. Иначе - не отвергаем.\n",
    "\n",
    "Добавим в нашу выборку информацию о городе проживания."
   ]
  },
  {
   "cell_type": "code",
   "execution_count": 31,
   "metadata": {},
   "outputs": [],
   "source": [
    "for n in good_data.index.levels[0]:\n",
    "    good_data.loc[n, 'city'] = users.loc[n - 1000, 'city']"
   ]
  },
  {
   "cell_type": "markdown",
   "metadata": {},
   "source": [
    "Проведем тест Левина для исследования равенста дисперсий."
   ]
  },
  {
   "cell_type": "code",
   "execution_count": 32,
   "metadata": {},
   "outputs": [
    {
     "data": {
      "text/plain": [
       "0.016910460538188943"
      ]
     },
     "execution_count": 32,
     "metadata": {},
     "output_type": "execute_result"
    }
   ],
   "source": [
    "# сохраним в переменные список выручки клиентов из жителей Москвы и остальных городов\n",
    "moscow_data = good_data.loc[good_data['city'] == 'Москва', 'revenue']\n",
    "region_data = good_data.loc[good_data['city'] != 'Москва', 'revenue']\n",
    "\n",
    "stat, p = levene(moscow_data, region_data)\n",
    "p"
   ]
  },
  {
   "cell_type": "markdown",
   "metadata": {},
   "source": [
    "P-value близко к нулю, следовательно дисперсии не однородны. Переходим к t-тесту Стьюдента."
   ]
  },
  {
   "cell_type": "code",
   "execution_count": 33,
   "metadata": {},
   "outputs": [
    {
     "name": "stdout",
     "output_type": "stream",
     "text": [
      "Средняя выручка пользователей из Москвы: 1517.75\n",
      "Средняя выручка пользователей из других регионов: 1495.09\n",
      "\n",
      "p-значение равно: 0.5030197690465402\n",
      "\n",
      "Не удалось отвергнуть нулевую гипотезу.\n"
     ]
    }
   ],
   "source": [
    "alpha = .01\n",
    "\n",
    "result = st.ttest_ind(moscow_data, region_data, equal_var = False)\n",
    "\n",
    "print('Средняя выручка пользователей из Москвы: {:.2f}'.format(moscow_data.mean()),\n",
    "      'Средняя выручка пользователей из других регионов: {:.2f}\\n'.format(region_data.mean()), sep = '\\n')\n",
    "print('p-значение равно: {}\\n'.format(result.pvalue))\n",
    "\n",
    "if result.pvalue < alpha:\n",
    "    print('Отвергаем нулевую гипотезу.')\n",
    "else:\n",
    "    print('Не удалось отвергнуть нулевую гипотезу.')"
   ]
  },
  {
   "cell_type": "markdown",
   "metadata": {},
   "source": [
    "Выведем медианную выручка и диаграмму размаха для пользователей Москвы и других регионов для наглдяности. Для этого сначала добавим столбец с признаком другого региона."
   ]
  },
  {
   "cell_type": "code",
   "execution_count": 34,
   "metadata": {
    "scrolled": false
   },
   "outputs": [
    {
     "name": "stdout",
     "output_type": "stream",
     "text": [
      "               revenue\n",
      "region                \n",
      "Другой регион   1545.9\n",
      "Москва          1733.6\n"
     ]
    },
    {
     "data": {
      "image/png": "[encoded data removed]",
      "text/plain": [
       "<Figure size 360x360 with 1 Axes>"
      ]
     },
     "metadata": {},
     "output_type": "display_data"
    }
   ],
   "source": [
    "def region(city):\n",
    "    '''\n",
    "    Функция для указания нахождения пользователя. В случае Москвы вернуть \"Москва\",\n",
    "    в ином случае вернуть \"Другой регион\"\n",
    "    '''\n",
    "    if city != 'Москва':\n",
    "        return 'Другой регион'\n",
    "    else:\n",
    "        return 'Москва'\n",
    "\n",
    "#применим функцию к отсортированному датафрейму\n",
    "good_data['region'] = good_data['city'].apply(lambda x: region(x))\n",
    "#выведем медианную выручку по столбцу region\n",
    "print(good_data.pivot_table(index = 'region', values = 'revenue', aggfunc = 'median'))\n",
    "# выведем диаграмму размаха\n",
    "sns.catplot(x = 'region', y = 'revenue', data = good_data, kind = 'box');"
   ]
  },
  {
   "cell_type": "markdown",
   "metadata": {},
   "source": [
    "### Промежуточный вывод"
   ]
  },
  {
   "cell_type": "markdown",
   "metadata": {},
   "source": [
    "С помощью статистического теста мы не смогли опровергнуть гипотезу о равности доходов для пользователей города Москвы и других регионов. Таким образом, выручка с клиентов из Москвы практически не отличаются от выручки пользователей других регионов. Если мы не отвергаем нулевую гипотезу, то имеем вероятность ошибки вывода в 50.3%."
   ]
  },
  {
   "cell_type": "markdown",
   "metadata": {},
   "source": [
    "## Общий вывод"
   ]
  },
  {
   "cell_type": "markdown",
   "metadata": {},
   "source": [
    "[В данной работе были изучены данные 500 пользователей «Мегалайна»](#1): кто они, откуда, каким тарифом пользуются, сколько звонков и сообщений каждый отправил за 2018 год. Был проведен анализ поведения пользователей двух разных тарифов \"Ультра\" и \"Смарт\".\n",
    "\n",
    "Первым делом была произведена [предобработка данных](#2), а именно проставлен правильный тип данных для дат. Добавлен столбец с номером месяца для таблиц. Округлены минуты разговоров в большую сторону. Тоже самое и для потребления интернет трафика.\n",
    "\n",
    "[Далее](#3), выведена отдельная таблица по месяцам и пользователям с количеством сделанных звонков и израсходованных минут разговора, количетсвом отправленных сообщений и объемом расхода интернет-трафика. Далее, для пользователей каждого тарифа была посчитана и добавлена в таблицу выручка компании.\n",
    "\n",
    "Был произведен [анализ даннных](#4), который подтвердил, что пользователи тарифа \"Смарт\" в среднем переплачивают больше сверх фиксированнной оплаты тарифа, чем пользователи другого тарифа. Для пользователей каждого тарифа был посчитан средний расход минут разговора, количества отправленных сообщений и потребляемого интернет-трафика.\n",
    "\n",
    "[На 5 шаге](#5) был произведен статистический анализ выручки от тарифов \"Ультра\" и \"Смарт\". Сначала был проведен тест Левина. После была отвергнута гипотеза о равности выручек двух тарифов. Получилось, что в среднем пользоваватели тарифа \"Ультра\" платят **1950 рублей**, а пользователи тарифа \"Смарт\" **988 рублей** в месяц. Гипотеза о равности выручек клиентов из Москвы и других регионов не получилось отвергнуть. В среднем они платят одинаково.   \n",
    "Критический уровень статистической значимости (`alpha`) был обозначен в 1%, т.к. выборка из пользователей размером в 500 человек.\n",
    "\n",
    "Были обнаружены следующие инсайты:\n",
    "- тарифы \"Смарт\" и \"Ультра\" приносят разную выручку компании \"Мегалайн\". В среднем клиенты тарифа \"Ультра\" приносят большую выручку;\n",
    "- пользователи тарифа \"Смарт\" в среднем переплачивают 438 рублей (79.6%) сверх абонентской платы, т.к. им не хватает выделенных услуг в рамках тарифа;\n",
    "- пользователи тарифа \"Ультра\" не использует включенные услуги в тариф в полном объеме;\n",
    "- средняя выручка клиентов из Москвы не отличается от выручки клиентов из других регионов. Разница статистически незначима. Р-значение = 0.503, разница составляет 188 рублей (10.8%)."
   ]
  }
 ],
 "metadata": {
  "kernelspec": {
   "display_name": "Python 3",
   "language": "python",
   "name": "python3"
  },
  "language_info": {
   "codemirror_mode": {
    "name": "ipython",
    "version": 3
   },
   "file_extension": ".py",
   "mimetype": "text/x-python",
   "name": "python",
   "nbconvert_exporter": "python",
   "pygments_lexer": "ipython3",
   "version": "3.7.6"
  }
 },
 "nbformat": 4,
 "nbformat_minor": 2
}
